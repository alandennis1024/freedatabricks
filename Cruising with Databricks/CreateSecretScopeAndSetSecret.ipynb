{
 "cells": [
  {
   "cell_type": "code",
   "execution_count": 0,
   "metadata": {
    "application/vnd.databricks.v1+cell": {
     "cellMetadata": {
      "byteLimit": 2048000,
      "rowLimit": 10000
     },
     "inputWidgets": {},
     "nuid": "0a6394fa-584c-4e19-9863-f51d68e58da9",
     "showTitle": false,
     "tableResultSettingsMap": {},
     "title": ""
    }
   },
   "outputs": [],
   "source": [
    "%pip install databricks-cli"
   ]
  },
  {
   "cell_type": "code",
   "execution_count": 0,
   "metadata": {
    "application/vnd.databricks.v1+cell": {
     "cellMetadata": {
      "byteLimit": 2048000,
      "rowLimit": 10000
     },
     "inputWidgets": {},
     "nuid": "a7438de1-f899-4d2b-90e6-42f1a94fa4d4",
     "showTitle": false,
     "tableResultSettingsMap": {},
     "title": ""
    }
   },
   "outputs": [],
   "source": [
    "%restart_python "
   ]
  },
  {
   "cell_type": "code",
   "execution_count": 0,
   "metadata": {
    "application/vnd.databricks.v1+cell": {
     "cellMetadata": {
      "byteLimit": 2048000,
      "rowLimit": 10000
     },
     "inputWidgets": {},
     "nuid": "a5d17dcc-888a-4ec3-8d1a-713a4921255f",
     "showTitle": false,
     "tableResultSettingsMap": {},
     "title": ""
    }
   },
   "outputs": [],
   "source": [
    "%sh \n",
    "databricks configure -h"
   ]
  },
  {
   "cell_type": "code",
   "execution_count": 0,
   "metadata": {
    "application/vnd.databricks.v1+cell": {
     "cellMetadata": {
      "byteLimit": 2048000,
      "rowLimit": 10000
     },
     "inputWidgets": {},
     "nuid": "289ba626-4fd4-4d69-bfcc-c3b92887eefd",
     "showTitle": false,
     "tableResultSettingsMap": {},
     "title": ""
    }
   },
   "outputs": [],
   "source": [
    "%sh\n",
    "databricks configure --host https://<YOUR ACCOUNT>.cloud.databricks.com/ --token-file /Workspace/Users/<YOUR FOLDER>/tokenfile"
   ]
  },
  {
   "cell_type": "code",
   "execution_count": 0,
   "metadata": {
    "application/vnd.databricks.v1+cell": {
     "cellMetadata": {
      "byteLimit": 2048000,
      "rowLimit": 10000
     },
     "inputWidgets": {},
     "nuid": "c246e2e9-fbd5-4ef2-8dac-59b9ee96183c",
     "showTitle": false,
     "tableResultSettingsMap": {},
     "title": ""
    }
   },
   "outputs": [],
   "source": [
    "%sh\n",
    "databricks secrets create-scope --scope clubroyale"
   ]
  },
  {
   "cell_type": "code",
   "execution_count": 0,
   "metadata": {
    "application/vnd.databricks.v1+cell": {
     "cellMetadata": {
      "byteLimit": 2048000,
      "rowLimit": 10000
     },
     "inputWidgets": {},
     "nuid": "6c76d37f-b8f5-47ab-bbfc-609269100cd5",
     "showTitle": false,
     "tableResultSettingsMap": {},
     "title": ""
    }
   },
   "outputs": [],
   "source": [
    "%sh \n",
    "databricks secrets put --scope clubroyale --key app_password --string-value \"<YOUR PASSWORD)\"\n",
    "databricks secrets put --scope clubroyale --key from_email --string-value \"<YOUR FROM EMAIL>\"\n",
    "databricks secrets put --scope clubroyale --key user1_email --string-value \"<YOUR USER 1 EMAIL>\"\n",
    "databricks secrets put --scope clubroyale --key user2_email --string-value \"<YOUR USER 2 EMAIL>\"\n",
    "databricks secrets put --scope clubroyale --key user1_rewardnumber --string-value \"<YOUR USER 1 REWARDS NUMBER>\"\n",
    "databricks secrets put --scope clubroyale --key user2_rewardnumber --string-value \"<YOUR USER 2 REWARDS NUMBER>\"\n",
    "databricks secrets put --scope clubroyale --key user1_last_name --string-value \"<YOUR USER 1 LAST NAME>\"\n",
    "databricks secrets put --scope clubroyale --key user2_last_name --string-value \"<YOUR USER 2 LAST NAME>\""
   ]
  }
 ],
 "metadata": {
  "application/vnd.databricks.v1+notebook": {
   "computePreferences": null,
   "dashboards": [],
   "environmentMetadata": {
    "base_environment": "",
    "environment_version": "2"
   },
   "inputWidgetPreferences": null,
   "language": "python",
   "notebookMetadata": {
    "mostRecentlyExecutedCommandWithImplicitDF": {
     "commandId": 6979619701571045,
     "dataframes": [
      "_sqldf"
     ]
    },
    "pythonIndentUnit": 4
   },
   "notebookName": "CreateSecretScopeAndSetSecret",
   "widgets": {}
  },
  "language_info": {
   "name": "python"
  }
 },
 "nbformat": 4,
 "nbformat_minor": 0
}
