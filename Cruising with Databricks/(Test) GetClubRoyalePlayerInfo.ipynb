{
 "cells": [
  {
   "cell_type": "code",
   "execution_count": 0,
   "metadata": {
    "application/vnd.databricks.v1+cell": {
     "cellMetadata": {
      "byteLimit": 2048000,
      "rowLimit": 10000
     },
     "inputWidgets": {},
     "nuid": "22f8dab4-5c66-40a1-9c21-e9094ca5e6ab",
     "showTitle": false,
     "tableResultSettingsMap": {},
     "title": ""
    }
   },
   "outputs": [],
   "source": [
    "-- This SQL code demonstrates how to test the retrieval of player information\n",
    "-- using the last name and player ID variables in Databricks."
   ]
  },
  {
   "cell_type": "code",
   "execution_count": 0,
   "metadata": {
    "application/vnd.databricks.v1+cell": {
     "cellMetadata": {
      "byteLimit": 2048000,
      "rowLimit": 10000
     },
     "inputWidgets": {},
     "nuid": "2cd7f980-fc07-48f9-91f7-c553c89937b6",
     "showTitle": false,
     "tableResultSettingsMap": {},
     "title": ""
    }
   },
   "outputs": [],
   "source": [
    "DECLARE OR REPLACE VARIABLE last_name_to_lookup STRING;\n",
    "DECLARE OR REPLACE VARIABLE player_id_to_lookup STRING;"
   ]
  },
  {
   "cell_type": "code",
   "execution_count": 0,
   "metadata": {
    "application/vnd.databricks.v1+cell": {
     "cellMetadata": {
      "byteLimit": 2048000,
      "rowLimit": 10000
     },
     "inputWidgets": {},
     "nuid": "d865a6c7-41b3-4665-8387-c9d325422b6f",
     "showTitle": false,
     "tableResultSettingsMap": {},
     "title": ""
    }
   },
   "outputs": [],
   "source": [
    "SET VARIABLE last_name_to_lookup = secret('clubroyale','user1_last_name');\n",
    "SET VARIABLE player_id_to_lookup = secret('clubroyale','user1_rewardnumber');"
   ]
  },
  {
   "cell_type": "code",
   "execution_count": 0,
   "metadata": {
    "application/vnd.databricks.v1+cell": {
     "cellMetadata": {
      "byteLimit": 2048000,
      "rowLimit": 10000
     },
     "inputWidgets": {},
     "nuid": "66dd3423-c7a4-45d6-80cf-1688cae6f56a",
     "showTitle": false,
     "tableResultSettingsMap": {},
     "title": ""
    }
   },
   "outputs": [],
   "source": [
    "select last_name_to_lookup,player_id_to_lookup;"
   ]
  },
  {
   "cell_type": "markdown",
   "metadata": {
    "application/vnd.databricks.v1+cell": {
     "cellMetadata": {
      "byteLimit": 2048000,
      "rowLimit": 10000
     },
     "inputWidgets": {},
     "nuid": "b57fa0ff-e0fb-46eb-94af-cb03fc837e5b",
     "showTitle": false,
     "tableResultSettingsMap": {},
     "title": ""
    }
   },
   "source": [
    "# Crossing the Language Barrier\n",
    "User the _sqldf to extract from the SQL environment the values and make them available in Python environment"
   ]
  },
  {
   "cell_type": "code",
   "execution_count": 0,
   "metadata": {
    "application/vnd.databricks.v1+cell": {
     "cellMetadata": {
      "byteLimit": 2048000,
      "rowLimit": 10000
     },
     "inputWidgets": {},
     "nuid": "0e2e9823-8ee3-471c-85c6-635bcae755cc",
     "showTitle": false,
     "tableResultSettingsMap": {},
     "title": ""
    }
   },
   "outputs": [],
   "source": [
    "%python\n",
    "display(_sqldf)\n",
    "last_name_to_lookup = _sqldf.first()[\"last_name_to_lookup\"]\n",
    "player_id_to_lookup = _sqldf.first()[\"player_id_to_lookup\"]"
   ]
  },
  {
   "cell_type": "code",
   "execution_count": 0,
   "metadata": {
    "application/vnd.databricks.v1+cell": {
     "cellMetadata": {
      "byteLimit": 2048000,
      "rowLimit": 10000
     },
     "inputWidgets": {},
     "nuid": "cfd71211-d8c7-4c62-9261-64476366d89f",
     "showTitle": false,
     "tableResultSettingsMap": {},
     "title": ""
    }
   },
   "outputs": [],
   "source": [
    "DECLARE OR REPLACE VARIABLE direct_results STRING ;\n",
    "DECLARE OR REPLACE VARIABLE  function_results  STRING ;"
   ]
  },
  {
   "cell_type": "code",
   "execution_count": 0,
   "metadata": {
    "application/vnd.databricks.v1+cell": {
     "cellMetadata": {
      "byteLimit": 2048000,
      "rowLimit": 10000
     },
     "inputWidgets": {},
     "nuid": "aee94f4e-41b4-414c-a9b1-0bd71b01df37",
     "showTitle": false,
     "tableResultSettingsMap": {},
     "title": ""
    }
   },
   "outputs": [],
   "source": [
    "DECLARE OR REPLACE VARIABLE temp_results STRUCT<status_code INT, text STRING>;\n",
    "DECLARE OR REPLACE VARIABLE http_request_results STRING ;\n",
    "DECLARE OR REPLACE VARIABLE header map<string,string>;\n",
    "DECLARE OR REPLACE VARIABLE payload = to_json(\n",
    "  named_struct(\n",
    "    'tbxLNameLookup',\n",
    "    last_name_to_lookup,\n",
    "    'tbxPlayerLookup',\n",
    "    player_id_to_lookup\n",
    "  )\n",
    ");\n",
    "SET VAR payload = map(\"tbxLNameLookup\",last_name_to_lookup,\"tbxPlayerLookup\",player_id_to_lookup);\n",
    "SET VAR header = map();\n",
    "SET VAR temp_results = (\n",
    "    http_request(\n",
    "      conn => 'club_royale',\n",
    "      method => 'POST',\n",
    "      path => '/PlayerLookup.asp',\n",
    "      json => payload,\n",
    "      headers =>header\n",
    "    )\n",
    "  );\n",
    "\n",
    "SET VAR http_request_results = CASE\n",
    "  WHEN temp_results.status_code = 200 THEN temp_results.text\n",
    "  ELSE temp_results.text\n",
    "END;\n",
    "select http_request_results;"
   ]
  },
  {
   "cell_type": "code",
   "execution_count": 0,
   "metadata": {
    "application/vnd.databricks.v1+cell": {
     "cellMetadata": {
      "byteLimit": 2048000,
      "rowLimit": 10000
     },
     "inputWidgets": {},
     "nuid": "f0e3c845-a86c-4946-9f3a-42baccb979c9",
     "showTitle": false,
     "tableResultSettingsMap": {},
     "title": ""
    }
   },
   "outputs": [],
   "source": [
    "%python\n",
    "http_request_results = _sqldf.first()[\"http_request_results\"]\n",
    "displayHTML(http_request_results)"
   ]
  },
  {
   "cell_type": "code",
   "execution_count": 0,
   "metadata": {
    "application/vnd.databricks.v1+cell": {
     "cellMetadata": {
      "byteLimit": 2048000,
      "rowLimit": 10000
     },
     "inputWidgets": {},
     "nuid": "6490c170-e6e1-46bc-ae00-49f0341ef571",
     "showTitle": false,
     "tableResultSettingsMap": {},
     "title": ""
    }
   },
   "outputs": [],
   "source": [
    "SET VAR function_results = clubroyale.offers.GetClubRoyalePlayerInfoDirect(player_id_to_lookup,last_name_to_lookup)"
   ]
  },
  {
   "cell_type": "code",
   "execution_count": 0,
   "metadata": {
    "application/vnd.databricks.v1+cell": {
     "cellMetadata": {
      "byteLimit": 2048000,
      "rowLimit": 10000
     },
     "inputWidgets": {},
     "nuid": "b480d367-2978-4d1d-960d-0ec20124a1fa",
     "showTitle": false,
     "tableResultSettingsMap": {},
     "title": ""
    }
   },
   "outputs": [],
   "source": [
    "select function_results;"
   ]
  },
  {
   "cell_type": "markdown",
   "metadata": {
    "application/vnd.databricks.v1+cell": {
     "cellMetadata": {
      "byteLimit": 2048000,
      "rowLimit": 10000
     },
     "inputWidgets": {},
     "nuid": "5c5c40bc-a185-4f47-b460-fefe21d4cd19",
     "showTitle": false,
     "tableResultSettingsMap": {},
     "title": ""
    }
   },
   "source": [
    "# Compare using Levenshtein \n",
    "https://docs.databricks.com/aws/en/sql/language-manual/functions/levenshtein\n",
    "\n",
    "The Levenshtein distance is a metric for measuring the difference between two strings by counting the minimum number of single-character edits (insertions, deletions, or substitutions) required to transform one string into the other. Databricks provides built-in support for calculating this distance in both SQL and PySpark.\n"
   ]
  },
  {
   "cell_type": "code",
   "execution_count": 0,
   "metadata": {
    "application/vnd.databricks.v1+cell": {
     "cellMetadata": {
      "byteLimit": 2048000,
      "rowLimit": 10000
     },
     "inputWidgets": {},
     "nuid": "de3f64db-3dee-41de-b78c-d1f0cae554c6",
     "showTitle": false,
     "tableResultSettingsMap": {},
     "title": ""
    }
   },
   "outputs": [],
   "source": [
    "select LEVENSHTEIN(function_results,http_request_results) as difference,function_results,http_request_results"
   ]
  },
  {
   "cell_type": "markdown",
   "metadata": {
    "application/vnd.databricks.v1+cell": {
     "cellMetadata": {
      "byteLimit": 2048000,
      "rowLimit": 10000
     },
     "inputWidgets": {},
     "nuid": "1d6542a3-36f8-4b4f-af7c-2c9b8d259695",
     "showTitle": false,
     "tableResultSettingsMap": {},
     "title": ""
    }
   },
   "source": [
    "# Compare Strings\n",
    "This cell shows how to pass values across language barrier by using dataframes, namely the built in _sqldf Dataframe. \n",
    "\n",
    "In Databricks, _sqldf is a temporary view created when you use SQL queries within a Python notebook cell. It allows you to seamlessly switch between SQL and Python by storing the result of the SQL query as a Spark DataFrame, which can then be accessed and manipulated in Python.\n",
    "\n",
    "The code compares strings by turning them into lists (which are created by spliting the large strings to lists of strings) and then uses the Differ compare function. \n"
   ]
  },
  {
   "cell_type": "code",
   "execution_count": 0,
   "metadata": {
    "application/vnd.databricks.v1+cell": {
     "cellMetadata": {
      "byteLimit": 2048000,
      "rowLimit": 10000
     },
     "inputWidgets": {},
     "nuid": "445497ef-8325-4208-8f4f-937ab6e55fc2",
     "showTitle": false,
     "tableResultSettingsMap": {},
     "title": ""
    }
   },
   "outputs": [],
   "source": [
    "%python\n",
    "# Display the results of the previous SQL query as a DataFrame\n",
    "display(_sqldf)\n",
    "from difflib import Differ\n",
    "# Extract the first row from the DataFrame\n",
    "row = _sqldf.first()\n",
    "\n",
    "# Retrieve the 'function_results' and 'direct_results' columns as strings\n",
    "string1 = row['function_results']\n",
    "string2 = row['http_request_results']\n",
    "# Retrieve the 'difference' column, which contains the Levenshtein distance\n",
    "levenshtein = row['difference']\n",
    "# Initialize a Differ object to compare the two strings\n",
    "differ = Differ()\n",
    "\n",
    "# Compute the line-by-line difference between the two strings\n",
    "diff = list(differ.compare(string1.split(), string2.split()))\n",
    "\n",
    "# Print the differences between the two strings\n",
    "print(\"\\n\".join(diff))\n",
    "if levenshtein < 80:\n",
    "  print(\"Probably the same page, with auto-generated content changing (timestamp).\")\n",
    "\n",
    "# Note: this is not a great solutions, but it is a start\n"
   ]
  },
  {
   "cell_type": "markdown",
   "metadata": {
    "application/vnd.databricks.v1+cell": {
     "cellMetadata": {
      "byteLimit": 2048000,
      "rowLimit": 10000
     },
     "inputWidgets": {},
     "nuid": "38562a13-bad0-4937-9ca7-eb4039db433f",
     "showTitle": false,
     "tableResultSettingsMap": {},
     "title": ""
    }
   },
   "source": [
    "# HTML Differences"
   ]
  },
  {
   "cell_type": "code",
   "execution_count": 0,
   "metadata": {
    "application/vnd.databricks.v1+cell": {
     "cellMetadata": {
      "byteLimit": 2048000,
      "rowLimit": 10000
     },
     "inputWidgets": {},
     "nuid": "c10e8df7-37dc-4278-a952-c891c29ea83f",
     "showTitle": false,
     "tableResultSettingsMap": {},
     "title": ""
    }
   },
   "outputs": [],
   "source": [
    "%python\n",
    "# Import HtmlDiff from difflib to generate an HTML side-by-side diff\n",
    "from difflib import HtmlDiff # https://docs.python.org/3/library/difflib.html#difflib.HtmlDiff\n",
    "\n",
    "# Assign the two HTML/text strings to compare\n",
    "html1 = string1\n",
    "html2 = string2\n",
    "context = True # If True, shows only the lines around the differences. Defaults to False (shows all lines).\n",
    "numlines = 2 # (Optional) Number of context lines to show if context=True. Defaults to 5.\n",
    "\n",
    "# Generate an HTML file showing the differences between the two strings, line by line\n",
    "html_diff = HtmlDiff().make_file(\n",
    "    html1.splitlines(),  # Split the first string into lines\n",
    "    html2.splitlines(),  # Split the second string into lines\n",
    "    fromdesc=\"function_results\",  # Description for the first version\n",
    "    todesc=\"direct_results\",     # Description for the second version\n",
    "    context = context, # If True, shows only the lines around the differences. Defaults to False (shows all lines).\n",
    "    numlines = numlines # (Optional) Number of context lines to show if context=True. Defaults to 5.\n",
    ")\n",
    "\n",
    "# Render the HTML diff output in the Databricks notebook\n",
    "displayHTML(html_diff)"
   ]
  },
  {
   "cell_type": "markdown",
   "metadata": {
    "application/vnd.databricks.v1+cell": {
     "cellMetadata": {
      "byteLimit": 2048000,
      "rowLimit": 10000
     },
     "inputWidgets": {},
     "nuid": "9914c086-cfed-48a2-a9ff-393c0fe6af27",
     "showTitle": false,
     "tableResultSettingsMap": {},
     "title": ""
    }
   },
   "source": [
    "# Test with Requests\n"
   ]
  },
  {
   "cell_type": "code",
   "execution_count": 0,
   "metadata": {
    "application/vnd.databricks.v1+cell": {
     "cellMetadata": {
      "byteLimit": 2048000,
      "rowLimit": 10000
     },
     "inputWidgets": {},
     "nuid": "38568936-f395-4cec-9302-d3b177d7c6f6",
     "showTitle": false,
     "tableResultSettingsMap": {},
     "title": ""
    }
   },
   "outputs": [],
   "source": [
    "%python\n",
    "import requests\n",
    "url = f\"https://www.clubroyaleoffers.com/PlayerLookup.asp\"\n",
    "\n",
    "payload = {\n",
    "    \"tbxLNameLookup\": last_name_to_lookup,\n",
    "    \"tbxPlayerLookup\": player_id_to_lookup\n",
    "}\n",
    "response = requests.post(url, data=payload)\n",
    "print(response)\n",
    "print(response.text)"
   ]
  },
  {
   "cell_type": "code",
   "execution_count": 0,
   "metadata": {
    "application/vnd.databricks.v1+cell": {
     "cellMetadata": {
      "byteLimit": 2048000,
      "rowLimit": 10000
     },
     "inputWidgets": {},
     "nuid": "3cef792e-d483-478a-af45-013a509fd92b",
     "showTitle": false,
     "tableResultSettingsMap": {},
     "title": ""
    }
   },
   "outputs": [],
   "source": [
    "%python\n",
    "from pyspark.sql import Row\n",
    "\n",
    "df = spark.createDataFrame([Row(response_text=response.text)])\n",
    "df.createOrReplaceTempView(\"requests_results\") #do this so we can easily compute differences\n",
    "display(df)"
   ]
  },
  {
   "cell_type": "code",
   "execution_count": 0,
   "metadata": {
    "application/vnd.databricks.v1+cell": {
     "cellMetadata": {
      "byteLimit": 2048000,
      "rowLimit": 10000
     },
     "inputWidgets": {},
     "nuid": "2ee6c44e-4b5d-49aa-bba9-2cbdf65539a5",
     "showTitle": false,
     "tableResultSettingsMap": {},
     "title": ""
    }
   },
   "outputs": [],
   "source": [
    "Select * from requests_results;\n",
    "SET VARIABLE http_request_results = ( select response_text from requests_results limit 1);\n",
    "select LEVENSHTEIN(function_results,http_request_results) as difference,function_results,http_request_results;"
   ]
  },
  {
   "cell_type": "code",
   "execution_count": 0,
   "metadata": {
    "application/vnd.databricks.v1+cell": {
     "cellMetadata": {
      "byteLimit": 2048000,
      "rowLimit": 10000
     },
     "inputWidgets": {},
     "nuid": "054f1c64-2597-41f3-ba8d-2fbefbad0333",
     "showTitle": false,
     "tableResultSettingsMap": {},
     "title": ""
    }
   },
   "outputs": [],
   "source": [
    "%python\n",
    "displayHTML(response.text)"
   ]
  },
  {
   "cell_type": "code",
   "execution_count": 0,
   "metadata": {
    "application/vnd.databricks.v1+cell": {
     "cellMetadata": {
      "byteLimit": 2048000,
      "rowLimit": 10000
     },
     "inputWidgets": {},
     "nuid": "3dd5820c-0d08-43a7-b4ff-1423aa309d73",
     "showTitle": false,
     "tableResultSettingsMap": {},
     "title": ""
    }
   },
   "outputs": [],
   "source": [
    "%python\n",
    "string2 = response.text"
   ]
  },
  {
   "cell_type": "code",
   "execution_count": 0,
   "metadata": {
    "application/vnd.databricks.v1+cell": {
     "cellMetadata": {
      "byteLimit": 2048000,
      "rowLimit": 10000
     },
     "inputWidgets": {},
     "nuid": "ff7ecdcb-39e5-4b2b-9fa8-3b52ab9ac207",
     "showTitle": false,
     "tableResultSettingsMap": {},
     "title": ""
    }
   },
   "outputs": [],
   "source": [
    "%python\n",
    "displayHTML(string2)"
   ]
  },
  {
   "cell_type": "code",
   "execution_count": 0,
   "metadata": {
    "application/vnd.databricks.v1+cell": {
     "cellMetadata": {
      "byteLimit": 2048000,
      "rowLimit": 10000
     },
     "inputWidgets": {},
     "nuid": "a88f9e8a-83b8-47bd-b06b-b7754dc7d968",
     "showTitle": false,
     "tableResultSettingsMap": {},
     "title": ""
    }
   },
   "outputs": [],
   "source": [
    "%python\n",
    "# Import HtmlDiff from difflib to generate an HTML side-by-side diff\n",
    "from difflib import HtmlDiff # https://docs.python.org/3/library/difflib.html#difflib.HtmlDiff\n",
    "\n",
    "# Assign the two HTML/text strings to compare\n",
    "html1 = string1\n",
    "html2 = string2\n",
    "context = True # If True, shows only the lines around the differences. Defaults to False (shows all lines).\n",
    "numlines = 2 # (Optional) Number of context lines to show if context=True. Defaults to 5.\n",
    "\n",
    "# Generate an HTML file showing the differences between the two strings, line by line\n",
    "html_diff = HtmlDiff().make_file(\n",
    "    html1.splitlines(),  # Split the first string into lines\n",
    "    html2.splitlines(),  # Split the second string into lines\n",
    "    fromdesc=\"function_results\",  # Description for the first version\n",
    "    todesc=\"direct_results\",     # Description for the second version\n",
    "    context = context, # If True, shows only the lines around the differences. Defaults to False (shows all lines).\n",
    "    numlines = numlines # (Optional) Number of context lines to show if context=True. Defaults to 5.\n",
    ")\n",
    "\n",
    "# Render the HTML diff output in the Databricks notebook\n",
    "displayHTML(html_diff)"
   ]
  },
  {
   "cell_type": "code",
   "execution_count": 0,
   "metadata": {
    "application/vnd.databricks.v1+cell": {
     "cellMetadata": {
      "byteLimit": 2048000,
      "rowLimit": 10000
     },
     "inputWidgets": {},
     "nuid": "6b32b90a-517f-4ad0-8dff-6b96b186c19d",
     "showTitle": false,
     "tableResultSettingsMap": {},
     "title": ""
    }
   },
   "outputs": [],
   "source": [
    "%python \n",
    "displayHTML(string1)"
   ]
  }
 ],
 "metadata": {
  "application/vnd.databricks.v1+notebook": {
   "computePreferences": null,
   "dashboards": [],
   "environmentMetadata": {
    "base_environment": "",
    "environment_version": "2"
   },
   "inputWidgetPreferences": null,
   "language": "sql",
   "notebookMetadata": {
    "pythonIndentUnit": 4
   },
   "notebookName": "(Test) GetClubRoyalePlayerInfo",
   "widgets": {}
  },
  "language_info": {
   "name": "sql"
  }
 },
 "nbformat": 4,
 "nbformat_minor": 0
}
