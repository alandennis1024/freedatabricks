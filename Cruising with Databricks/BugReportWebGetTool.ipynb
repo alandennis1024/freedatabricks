{
 "cells": [
  {
   "cell_type": "code",
   "execution_count": 0,
   "metadata": {
    "application/vnd.databricks.v1+cell": {
     "cellMetadata": {
      "byteLimit": 2048000,
      "rowLimit": 10000
     },
     "inputWidgets": {},
     "nuid": "22f8dab4-5c66-40a1-9c21-e9094ca5e6ab",
     "showTitle": false,
     "tableResultSettingsMap": {},
     "title": ""
    }
   },
   "outputs": [],
   "source": [
    "-- This SQL code demonstrates how to create a tool that retrieves the contents of a web page\n",
    "-- using a POST operation with the http_request function in Databricks.\n",
    "-- For more details, refer to the Databricks documentation: \n",
    "-- https://docs.databricks.com/aws/en/sql/language-manual/functions/http_request"
   ]
  },
  {
   "cell_type": "markdown",
   "metadata": {
    "application/vnd.databricks.v1+cell": {
     "cellMetadata": {
      "byteLimit": 2048000,
      "rowLimit": 10000
     },
     "inputWidgets": {},
     "nuid": "e91b6332-94de-4871-9b19-cf810d130862",
     "showTitle": false,
     "tableResultSettingsMap": {},
     "title": ""
    }
   },
   "source": [
    "# Create a Connection\n",
    "See https://docs.databricks.com/aws/en/sql/language-manual/sql-ref-syntax-ddl-create-connection\n"
   ]
  },
  {
   "cell_type": "code",
   "execution_count": 0,
   "metadata": {
    "application/vnd.databricks.v1+cell": {
     "cellMetadata": {
      "byteLimit": 2048000,
      "rowLimit": 10000
     },
     "inputWidgets": {},
     "nuid": "3bda9062-816a-40ea-a88e-b35a07552b4e",
     "showTitle": false,
     "tableResultSettingsMap": {},
     "title": ""
    }
   },
   "outputs": [],
   "source": [
    "-- Set up a connect to Slack.\n",
    "CREATE OR REPLACE CONNECTION club_royale\n",
    "  TYPE HTTP\n",
    "  OPTIONS (\n",
    "    host 'https://www.clubroyaleoffers.com',\n",
    "    port '443',\n",
    "    base_path '/',\n",
    "    bearer_token 'not used'\n",
    "  );"
   ]
  },
  {
   "cell_type": "markdown",
   "metadata": {
    "application/vnd.databricks.v1+cell": {
     "cellMetadata": {
      "byteLimit": 2048000,
      "rowLimit": 10000
     },
     "inputWidgets": {},
     "nuid": "bc08b8fc-abf3-409f-b668-7e762a99c188",
     "showTitle": false,
     "tableResultSettingsMap": {},
     "title": ""
    }
   },
   "source": [
    "This should either replace the connection or give a syntax error saying OR REPLACE is not allowed."
   ]
  },
  {
   "cell_type": "code",
   "execution_count": 0,
   "metadata": {
    "application/vnd.databricks.v1+cell": {
     "cellMetadata": {},
     "inputWidgets": {},
     "nuid": "24ad6c9f-e313-4feb-9f17-c73bdd0b7dcc",
     "showTitle": false,
     "tableResultSettingsMap": {},
     "title": ""
    }
   },
   "outputs": [],
   "source": []
  }
 ],
 "metadata": {
  "application/vnd.databricks.v1+notebook": {
   "computePreferences": null,
   "dashboards": [],
   "environmentMetadata": {
    "base_environment": "",
    "environment_version": "2"
   },
   "inputWidgetPreferences": null,
   "language": "sql",
   "notebookMetadata": {},
   "notebookName": "BugReportWebGetTool",
   "widgets": {}
  },
  "language_info": {
   "name": "sql"
  }
 },
 "nbformat": 4,
 "nbformat_minor": 0
}
